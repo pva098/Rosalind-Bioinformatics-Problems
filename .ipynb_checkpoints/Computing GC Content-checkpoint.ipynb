{
 "cells": [
  {
   "cell_type": "markdown",
   "metadata": {},
   "source": [
    "# Computing GC Content\n",
    "### Problem\n",
    "The GC-content of a DNA string is given by the percentage of symbols in the string that are 'C' or 'G'. For example, the GC-content of \"AGCTATAG\" is 37.5%. Note that the reverse complement of any DNA string has the same GC-content.\n",
    "\n",
    "DNA strings must be labeled when they are consolidated into a database. A commonly used method of string labeling is called FASTA format. In this format, the string is introduced by a line that begins with '>', followed by some labeling information. Subsequent lines contain the string itself; the first line to begin with '>' indicates the label of the next string.\n",
    "\n",
    "In Rosalind's implementation, a string in FASTA format will be labeled by the ID \"Rosalind_xxxx\", where \"xxxx\" denotes a four-digit code between 0000 and 9999.\n",
    "\n",
    "##### Given: \n",
    "At most 10 DNA strings in FASTA format (of length at most 1 kbp each).\n",
    "\n",
    "##### Return: \n",
    "The ID of the string having the highest GC-content, followed by the GC-content of that string. Rosalind allows for a default error of 0.001 in all decimal answers unless otherwise stated; please see the note on absolute error below.\n",
    "### Sample Dataset\n",
    "(ignore the #. placed for formatting purposes)\n",
    "#>Rosalind_6404\n",
    "CCTGCGGAAGATCGGCACTAGAATAGCCAGAACCGTTTCTCTGAGGCTTCCGGCCTTCCC\n",
    "TCCCACTAATAATTCTGAGG\n",
    "#>Rosalind_5959\n",
    "CCATCGGTAGCGCATCCTTAGTCCAATTAAGTCCCTATCCAGGCGCTCCGCCGAAGGTCT\n",
    "ATATCCATTTGTCAGCAGACACGC\n",
    "#>Rosalind_0808\n",
    "CCACCCTCGTGGTATGGCTAGGCATTCAGGAACCGGAGAACGCTTCAGACCAGCCCGGAC\n",
    "TGGGAACCTGCGGGCAGTAGGTGGAAT\n",
    "\n",
    "### Expected Output\n",
    "Rosalind_0808\n",
    "\n",
    "60.919540"
   ]
  },
  {
   "cell_type": "code",
   "execution_count": 1,
   "metadata": {
    "collapsed": false
   },
   "outputs": [
    {
     "name": "stdout",
     "output_type": "stream",
     "text": [
      "Rosalind_0808\n",
      "60.91954\n"
     ]
    }
   ],
   "source": [
    "#Placed the dataset in a text file\n",
    "def compGcCont(s):\n",
    "    ID = []\n",
    "    gcContent = []\n",
    "\n",
    "    #Reading File and storing it as a list of strings separated by new line\n",
    "    file = open(\"./\" + s, \"r\")\n",
    "    s = file.readlines()\n",
    "    \n",
    "    #Sorting the list of strings into IDs and GC Percentages\n",
    "    for i in range(0, len(s), 2):\n",
    "        \n",
    "        #removing header and new line from IDs and adding them into ID list\n",
    "        ID.append(s[i][1:(len(s[i])-1)])\n",
    "        \n",
    "        #calculating GC Percentages and appending them into a list\n",
    "        cCount = s[i+1].count('C')\n",
    "        gCount = s[i+1].count('G')\n",
    "        gcContent.append(((float(cCount+gCount))/(len(s[i+1])))*100.0)\n",
    "    \n",
    "    #Printing ID and GC content of DNA with maximum GC Content\n",
    "    print(ID[gcContent.index(max(gcContent))]) \n",
    "    print(round(max(gcContent), 6))\n",
    "\n",
    "    \n",
    "#Test    \n",
    "compGcCont(\"gcContent.txt\")\n"
   ]
  }
 ],
 "metadata": {
  "kernelspec": {
   "display_name": "Python 3",
   "language": "python",
   "name": "python3"
  },
  "language_info": {
   "codemirror_mode": {
    "name": "ipython",
    "version": 3
   },
   "file_extension": ".py",
   "mimetype": "text/x-python",
   "name": "python",
   "nbconvert_exporter": "python",
   "pygments_lexer": "ipython3",
   "version": "3.6.2"
  }
 },
 "nbformat": 4,
 "nbformat_minor": 2
}
