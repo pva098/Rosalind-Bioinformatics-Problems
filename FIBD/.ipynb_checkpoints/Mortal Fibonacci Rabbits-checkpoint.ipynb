{
 "cells": [
  {
   "cell_type": "markdown",
   "metadata": {},
   "source": [
    "# Mortal Fibonacci Rabbits\n",
    "### Problem\n",
    "Recall the definition of the Fibonacci numbers from “Rabbits and Recurrence Relations”, which followed the recurrence relation Fn=Fn−1+Fn−2 and assumed that each pair of rabbits reaches maturity in one month and produces a single pair of offspring (one male, one female) each subsequent month.\n",
    "\n",
    "Our aim is to somehow modify this recurrence relation to achieve a dynamic programming solution in the case that all rabbits die out after a fixed number of months. See Figure 4 for a depiction of a rabbit tree in which rabbits live for three months (meaning that they reproduce only twice before dying).\n",
    "\n",
    "##### Given: \n",
    "Positive integers n≤100 and m≤20.\n",
    "\n",
    "##### Return:\n",
    "The total number of pairs of rabbits that will remain after the n-th month if all rabbits live for m months.\n",
    "\n",
    "### Sample Dataset\n",
    "6 3\n",
    "### Expected Output\n",
    "4"
   ]
  },
  {
   "cell_type": "code",
   "execution_count": 1,
   "metadata": {
    "collapsed": false
   },
   "outputs": [
    {
     "name": "stdout",
     "output_type": "stream",
     "text": [
      "4\n"
     ]
    }
   ],
   "source": [
    "def mortalRabbits(n, m):\n",
    "    \n",
    "    # Define first month with adult queue and number of youth\n",
    "    adults = [0]*(m-1)\n",
    "    youth = 1\n",
    "    temp = 0\n",
    "    \n",
    "    # Calculation starts on second month\n",
    "    for i in range(0, n-1):\n",
    "        # Youth of previous month gets stored in a temporary variable\n",
    "        temp = youth\n",
    "        # In problem logic, the youth = number of adults in previous generation \n",
    "        youth = sum(adults)\n",
    "        # Adults at beginning of queue (end of life) die off\n",
    "        del adults[0]\n",
    "        # Youth in previous month turn into adults \n",
    "        adults.append(temp)\n",
    "    # Total number of rabbits is number of adults and youth on the nth month\n",
    "    print(sum(adults)+youth)\n",
    "\n",
    "#Test    \n",
    "mortalRabbits(6,3)\n"
   ]
  },
  {
   "cell_type": "code",
   "execution_count": null,
   "metadata": {
    "collapsed": true
   },
   "outputs": [],
   "source": []
  }
 ],
 "metadata": {
  "kernelspec": {
   "display_name": "Python 3",
   "language": "python",
   "name": "python3"
  },
  "language_info": {
   "codemirror_mode": {
    "name": "ipython",
    "version": 3
   },
   "file_extension": ".py",
   "mimetype": "text/x-python",
   "name": "python",
   "nbconvert_exporter": "python",
   "pygments_lexer": "ipython3",
   "version": "3.6.2"
  }
 },
 "nbformat": 4,
 "nbformat_minor": 2
}
