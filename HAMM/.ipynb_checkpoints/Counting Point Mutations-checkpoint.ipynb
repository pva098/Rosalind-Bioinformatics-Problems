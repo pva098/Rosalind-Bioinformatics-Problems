{
 "cells": [
  {
   "cell_type": "markdown",
   "metadata": {},
   "source": [
    "# Counting Point Mutations\n",
    "### Problem\n",
    "Given two strings s and t of equal length, the Hamming distance between s and t, denoted dH(s,t), is the number of corresponding symbols that differ in s and t. See Figure 2.\n",
    "##### Given:\n",
    "Two DNA strings s and t of equal length (not exceeding 1 kbp).\n",
    "##### Return:\n",
    "The Hamming distance dH(s,t).\n",
    "\n",
    "### Sample Dataset\n",
    "GAGCCTACTAACGGGAT\n",
    "\n",
    "CATCGTAATGACGGCCT\n",
    "### Sample Output\n",
    "7"
   ]
  },
  {
   "cell_type": "code",
   "execution_count": 1,
   "metadata": {
    "collapsed": false
   },
   "outputs": [
    {
     "data": {
      "text/plain": [
       "7"
      ]
     },
     "execution_count": 1,
     "metadata": {},
     "output_type": "execute_result"
    }
   ],
   "source": [
    "def hammingDistance(s,t):\n",
    "    count = 0\n",
    "    for i in range(len(s)):\n",
    "        if s[i] != t[i]:\n",
    "            count = count +1\n",
    "    return count\n",
    "\n",
    "#Test\n",
    "hammingDistance('GAGCCTACTAACGGGAT', 'CATCGTAATGACGGCCT')"
   ]
  }
 ],
 "metadata": {
  "kernelspec": {
   "display_name": "Python 3",
   "language": "python",
   "name": "python3"
  },
  "language_info": {
   "codemirror_mode": {
    "name": "ipython",
    "version": 3
   },
   "file_extension": ".py",
   "mimetype": "text/x-python",
   "name": "python",
   "nbconvert_exporter": "python",
   "pygments_lexer": "ipython3",
   "version": "3.6.2"
  }
 },
 "nbformat": 4,
 "nbformat_minor": 2
}
