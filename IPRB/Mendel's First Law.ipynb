{
 "cells": [
  {
   "cell_type": "markdown",
   "metadata": {},
   "source": [
    "# Mendel's First Law\n",
    "### Problem\n",
    "Probability is the mathematical study of randomly occurring phenomena. We will model such a phenomenon with a random variable, which is simply a variable that can take a number of different distinct outcomes depending on the result of an underlying random process.\n",
    "\n",
    "For example, say that we have a bag containing 3 red balls and 2 blue balls. If we let X represent the random variable corresponding to the color of a drawn ball, then the probability of each of the two outcomes is given by Pr(X=red)=3/5 and Pr(X=blue)=2/5.\n",
    "\n",
    "Random variables can be combined to yield new random variables. Returning to the ball example, let Y model the color of a second ball drawn from the bag (without replacing the first ball). The probability of Y being red depends on whether the first ball was red or blue. To represent all outcomes of X and Y, we therefore use a probability tree diagram. This branching diagram represents all possible individual probabilities for X and Y, with outcomes at the endpoints (\"leaves\") of the tree. The probability of any outcome is given by the product of probabilities along the path from the beginning of the tree; see Figure 2 for an illustrative example.\n",
    "\n",
    "An event is simply a collection of outcomes. Because outcomes are distinct, the probability of an event can be written as the sum of the probabilities of its constituent outcomes. For our colored ball example, let A be the event \"Y is blue.\" Pr(A) is equal to the sum of the probabilities of two different outcomes: Pr(X=blue and Y=blue)+Pr(X=red and Y=blue), or 3/10+1/10=2/5 (see Figure 2 above).\n",
    "##### Given\n",
    "Three positive integers k, m, and n, representing a population containing k+m+n organisms: k individuals are homozygous dominant for a factor, m are heterozygous, and n are homozygous recessive.\n",
    "##### Return\n",
    "The probability that two randomly selected mating organisms will produce an individual possessing a dominant allele (and thus displaying the dominant phenotype). Assume that any two organisms can mate.\n",
    "\n",
    "### Sample Dataset\n",
    "2 2 2\n",
    "### Expected Output\n",
    "0.78333"
   ]
  },
  {
   "cell_type": "code",
   "execution_count": 1,
   "metadata": {
    "collapsed": false
   },
   "outputs": [
    {
     "data": {
      "text/plain": [
       "0.7083333333333333"
      ]
     },
     "execution_count": 1,
     "metadata": {},
     "output_type": "execute_result"
    }
   ],
   "source": [
    "def mendel(k, m, n):\n",
    "    totProb = 0\n",
    "    total = k+m+n\n",
    "    #case k\n",
    "    probK = k/total\n",
    "    totProb = totProb + probK\n",
    "    ## NOTE: if k is the first organism, the second organism does not matter as all offspring will have the dominant allele.\n",
    "    ## Thus probability for dominant allele is equal to probability of k being the first letter\n",
    "    \n",
    "    #case m\n",
    "    ## k is your second organism\n",
    "    totProb = totProb + ((m/total)*(k/total))\n",
    "    ## m is your second organism\n",
    "    totProb = totProb + ((m/total)*((m-1)/total)*(3/4))\n",
    "    ### NOTE: it is m-1 and not m for the second fraction because an organism cannot mate with itself\n",
    "    ###       so it must be removed from the possible number of options\n",
    "    ## n is your second organism\n",
    "    totProb = totProb + ((m/total)*(n/total)*(1/2))\n",
    "    \n",
    "    \n",
    "    #case n\n",
    "    ## k is your second organism\n",
    "    totProb = totProb + ((n/total)*(k/total))\n",
    "    ## m is your second organism\n",
    "    totProb = totProb + ((n/total)*(m/total)*(1/2))\n",
    "    ## NOTE: if n is your second organism, the probability of the offspring having the dominant allele is 0. \n",
    "    ## Thus this does not need to be added to the total probability\n",
    "    return totProb\n",
    "\n",
    "#Test\n",
    "mendel(2, 2, 2)\n",
    "#Assuming error on Rosalind and Expected outcome is actually 0.708333."
   ]
  },
  {
   "cell_type": "code",
   "execution_count": null,
   "metadata": {
    "collapsed": true
   },
   "outputs": [],
   "source": []
  }
 ],
 "metadata": {
  "kernelspec": {
   "display_name": "Python 3",
   "language": "python",
   "name": "python3"
  },
  "language_info": {
   "codemirror_mode": {
    "name": "ipython",
    "version": 3
   },
   "file_extension": ".py",
   "mimetype": "text/x-python",
   "name": "python",
   "nbconvert_exporter": "python",
   "pygments_lexer": "ipython3",
   "version": "3.6.2"
  }
 },
 "nbformat": 4,
 "nbformat_minor": 2
}
