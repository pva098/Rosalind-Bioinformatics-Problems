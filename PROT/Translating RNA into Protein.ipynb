{
 "cells": [
  {
   "cell_type": "markdown",
   "metadata": {},
   "source": [
    "# Translating RNA into Protein\n",
    "### Problem\n",
    "The 20 commonly occurring amino acids are abbreviated by using 20 letters from the English alphabet (all letters except for B, J, O, U, X, and Z). Protein strings are constructed from these 20 symbols. Henceforth, the term genetic string will incorporate protein strings along with DNA strings and RNA strings.\n",
    "\n",
    "The RNA codon table dictates the details regarding the encoding of specific codons into the amino acid alphabet.\n",
    "\n",
    "##### Given: \n",
    "An RNA string s corresponding to a strand of mRNA (of length at most 10 kbp).\n",
    "\n",
    "##### Return: \n",
    "The protein string encoded by s.\n",
    "\n",
    "### Sample Dataset\n",
    "AUGGCCAUGGCGCCCAGAACUGAGAUCAAUAGUACCCGUAUUAACGGGUGA\n",
    "### Expected Output\n",
    "MAMAPRTEINSTRING"
   ]
  },
  {
   "cell_type": "code",
   "execution_count": 1,
   "metadata": {
    "collapsed": false
   },
   "outputs": [
    {
     "data": {
      "text/plain": [
       "'MAMAPRTEINSTRING'"
      ]
     },
     "execution_count": 1,
     "metadata": {},
     "output_type": "execute_result"
    }
   ],
   "source": [
    "def rnaTranslation(s):\n",
    "    #Find where protein starts --> Look for \"AUG\" sequence\n",
    "    startIndex = 0\n",
    "    for i in range(0, len(s)):\n",
    "        if i<(len(s)-4):\n",
    "            if s[i:i+3] == 'AUG':\n",
    "                startIndex = i\n",
    "                break\n",
    "        else:\n",
    "            print('There is no start codon. There is no protein')\n",
    "            return\n",
    "    \n",
    "    #Generating Codon Dictionary\n",
    "    codon = {}\n",
    "    file = open(\"./RNACodon.txt\", \"r\")\n",
    "    cod = file.readlines()\n",
    "    for i in range(0, len(cod)):\n",
    "        tempstr = cod[i]\n",
    "        codon.update({tempstr[:3] : tempstr[4]})   \n",
    "    \n",
    "    #Begin Translation\n",
    "    protein = ''\n",
    "    for i in range(startIndex, len(s), 3):\n",
    "        if (s[i:i+3] == 'UAA') or (s[i:i+3] == 'UAG') or (s[i:i+3] == 'UGA'):\n",
    "            return protein\n",
    "        protein = protein + codon.get(s[i:i+3])\n",
    "    return protein\n",
    "\n",
    "#Test\n",
    "rnaTranslation('AUGGCCAUGGCGCCCAGAACUGAGAUCAAUAGUACCCGUAUUAACGGGUGA')\n"
   ]
  },
  {
   "cell_type": "code",
   "execution_count": null,
   "metadata": {
    "collapsed": true
   },
   "outputs": [],
   "source": []
  }
 ],
 "metadata": {
  "kernelspec": {
   "display_name": "Python 3",
   "language": "python",
   "name": "python3"
  },
  "language_info": {
   "codemirror_mode": {
    "name": "ipython",
    "version": 3
   },
   "file_extension": ".py",
   "mimetype": "text/x-python",
   "name": "python",
   "nbconvert_exporter": "python",
   "pygments_lexer": "ipython3",
   "version": "3.6.2"
  }
 },
 "nbformat": 4,
 "nbformat_minor": 2
}
