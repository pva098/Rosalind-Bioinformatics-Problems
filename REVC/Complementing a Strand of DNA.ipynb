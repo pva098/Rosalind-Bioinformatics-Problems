{
 "cells": [
  {
   "cell_type": "markdown",
   "metadata": {},
   "source": [
    "# Complementing a Strand of DNA\n",
    "\n",
    "### Problem\n",
    "In DNA strings, symbols 'A' and 'T' are complements of each other, as are 'C' and 'G'.\n",
    "The reverse complement of a DNA string s is the string sc formed by reversing the symbols of s, then taking the complement of each symbol (e.g., the reverse complement of \"GTCA\" is \"TGAC\").\n",
    "##### Given:\n",
    "   A DNA string 's' of length at most 1000 bp\n",
    "##### Return:\n",
    "   The reverse complement 'sc' of 's'\n",
    "### Sample Dataset\n",
    "   AAAACCCGGT\n",
    "### Expected Output\n",
    "   ACCGGGTTTT"
   ]
  },
  {
   "cell_type": "code",
   "execution_count": 1,
   "metadata": {
    "collapsed": false
   },
   "outputs": [
    {
     "name": "stdout",
     "output_type": "stream",
     "text": [
      "ACCGGGTTTT\n"
     ]
    }
   ],
   "source": [
    "def complement(s):\n",
    "    sc = ''\n",
    "    for i in s:\n",
    "        if i == 'A':\n",
    "            sc = 'T' + sc\n",
    "        elif i == 'C':\n",
    "            sc = 'G' + sc\n",
    "        elif i == 'G':\n",
    "            sc = 'C' + sc\n",
    "        elif i == 'T':\n",
    "            sc = 'A' + sc\n",
    "        else:\n",
    "            print('Invalid DNA sequence')\n",
    "    print(sc)\n",
    "\n",
    "#Test\n",
    "complement('AAAACCCGGT')\n",
    "        "
   ]
  }
 ],
 "metadata": {
  "kernelspec": {
   "display_name": "Python 3",
   "language": "python",
   "name": "python3"
  },
  "language_info": {
   "codemirror_mode": {
    "name": "ipython",
    "version": 3
   },
   "file_extension": ".py",
   "mimetype": "text/x-python",
   "name": "python",
   "nbconvert_exporter": "python",
   "pygments_lexer": "ipython3",
   "version": "3.6.2"
  }
 },
 "nbformat": 4,
 "nbformat_minor": 2
}
